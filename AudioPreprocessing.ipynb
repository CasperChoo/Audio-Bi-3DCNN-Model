{
  "nbformat": 4,
  "nbformat_minor": 0,
  "metadata": {
    "colab": {
      "name": "AudioPreprocessing.ipynb",
      "provenance": [],
      "collapsed_sections": []
    },
    "kernelspec": {
      "name": "python3",
      "display_name": "Python 3"
    }
  },
  "cells": [
    {
      "cell_type": "markdown",
      "metadata": {
        "id": "2Z_a4E7sHS4b",
        "colab_type": "text"
      },
      "source": [
        "Import Libraries"
      ]
    },
    {
      "cell_type": "code",
      "metadata": {
        "id": "rf3OvAGq_TMN",
        "colab_type": "code",
        "colab": {}
      },
      "source": [
        "import os\n",
        "import subprocess\n",
        "import os\n",
        "import zipfile"
      ],
      "execution_count": 0,
      "outputs": []
    },
    {
      "cell_type": "markdown",
      "metadata": {
        "id": "9W9FPH1vGut3",
        "colab_type": "text"
      },
      "source": [
        "Training Audio"
      ]
    },
    {
      "cell_type": "code",
      "metadata": {
        "id": "LiPQQ7Nx_ewW",
        "colab_type": "code",
        "colab": {}
      },
      "source": [
        "training_set_data_path=\"/CAER/train/\"\n",
        "entries=os.listdir(training_set_data_path)\n",
        "for entry in entries:\n",
        "        entries2=os.listdir(training_set_data_path+\"/\"+entry+'/')\n",
        "        for file_name in entries2:\n",
        "          avi_file_path=''\n",
        "          output_name=''\n",
        "          file_name=(file_name.split('.avi'))[0]\n",
        "          try:\n",
        "              if not os.path.exists(f'CAER/train(mp4)/{entry}/'):\n",
        "                  os.makedirs(f'CAER/train(mp4)/{entry}/')\n",
        "          except OSError:\n",
        "              print ('Error: Creating directory of data')\n",
        "          avi_file_path=training_set_data_path+\"/\"+str(entry)+'/'+str(file_name)+'.avi'\n",
        "          output_name=f'CAER/train(mp4)/{entry}/{file_name}'\n",
        "          os.popen(\"ffmpeg -i '{input}' -ac 2 -b:v 2000k -c:a aac -c:v libx264 -b:a 160k -vprofile high -bf 0 -strict experimental -f mp4 '{output}.mp4'\".format(input = avi_file_path, output = output_name))"
      ],
      "execution_count": 0,
      "outputs": []
    },
    {
      "cell_type": "code",
      "metadata": {
        "id": "9jYejQMQ_igI",
        "colab_type": "code",
        "colab": {}
      },
      "source": [
        "entries=os.listdir('/CAER/train(mp4)')\n",
        "for entry in entries:\n",
        "        entries2=os.listdir('CAER/train(mp4)/'+entry+'/')\n",
        "        for file_name in entries2:\n",
        "          file_name=(file_name.split('.mp4'))[0]\n",
        "          try:\n",
        "              if not os.path.exists(f'CAER/VoiceData/{entry}/'):\n",
        "                  os.makedirs(f'CAER/VoiceData/{entry}}/')\n",
        "          except OSError:\n",
        "              print ('Error: Creating directory of data')\n",
        "          command = \"ffmpeg -i CAER/train(mp4)/{}/{}.mp4 -ab 320k -ac 2 -ar 44100 -vn CAER/VoiceData/{}/{}.wav\".format(entry,file_name,entry,file_name)    "
      ],
      "execution_count": 0,
      "outputs": []
    },
    {
      "cell_type": "code",
      "metadata": {
        "id": "APimGZtKDk5G",
        "colab_type": "code",
        "colab": {}
      },
      "source": [
        "header = 'filename categories chroma_stft rmse spectral_centroid spectral_bandwidth rolloff zero_crossing_rate'\n",
        "for i in range(1, 21):\n",
        "    header += f' mfcc{i}'\n",
        "header = header.split()"
      ],
      "execution_count": 0,
      "outputs": []
    },
    {
      "cell_type": "code",
      "metadata": {
        "id": "oHWm6YPADlR2",
        "colab_type": "code",
        "colab": {}
      },
      "source": [
        "file = open('/csv/assignment_audio.csv', 'w', newline='')\n",
        "with file:\n",
        "    writer = csv.writer(file)\n",
        "    writer.writerow(header)\n",
        "entries=os.listdir('/CAER/VoiceData/')\n",
        "for entry in entries:\n",
        "    for filename in os.listdir(f'/CAER/VoiceData/{entry}'):\n",
        "            songname = f'/CAER/VoiceData/{entry}/{filename}'\n",
        "            y, sr = librosa.load(songname, mono=True, duration=7)\n",
        "            chroma_stft = librosa.feature.chroma_stft(y=y, sr=sr)\n",
        "            rmse = librosa.feature.rmse(y=y)\n",
        "            spec_cent = librosa.feature.spectral_centroid(y=y, sr=sr)\n",
        "            spec_bw = librosa.feature.spectral_bandwidth(y=y, sr=sr)\n",
        "            rolloff = librosa.feature.spectral_rolloff(y=y, sr=sr)\n",
        "            zcr = librosa.feature.zero_crossing_rate(y)\n",
        "            mfcc = librosa.feature.mfcc(y=y, sr=sr)\n",
        "            to_append = f'{filename} {entry} {np.mean(chroma_stft)} {np.mean(rmse)} {np.mean(spec_cent)} {np.mean(spec_bw)} {np.mean(rolloff)} {np.mean(zcr)}'    \n",
        "            for e in mfcc:\n",
        "                to_append += f' {np.mean(e)}'\n",
        "            file = open('/csv/assignment_audio.csv', 'a', newline='')\n",
        "            with file:\n",
        "                writer = csv.writer(file)\n",
        "                writer.writerow(to_append.split())"
      ],
      "execution_count": 0,
      "outputs": []
    },
    {
      "cell_type": "markdown",
      "metadata": {
        "id": "-jjM1BMwGxCR",
        "colab_type": "text"
      },
      "source": [
        "Testing Audio"
      ]
    },
    {
      "cell_type": "code",
      "metadata": {
        "id": "97TTi6IIGt-g",
        "colab_type": "code",
        "colab": {}
      },
      "source": [
        "training_set_data_path=\"/CAER/test/\"\n",
        "entries=os.listdir(training_set_data_path)\n",
        "for entry in entries:\n",
        "        entries2=os.listdir(training_set_data_path+\"/\"+entry+'/')\n",
        "        for file_name in entries2:\n",
        "          avi_file_path=''\n",
        "          output_name=''\n",
        "          file_name=(file_name.split('.avi'))[0]\n",
        "          try:\n",
        "              if not os.path.exists(f'CAER/test(mp4)/{entry}/'):\n",
        "                  os.makedirs(f'CAER/test(mp4)/{entry}/')\n",
        "          except OSError:\n",
        "              print ('Error: Creating directory of data')\n",
        "          avi_file_path=training_set_data_path+\"/\"+str(entry)+'/'+str(file_name)+'.avi'\n",
        "          output_name=f'CAER/train(mp4)/{entry}/{file_name}'\n",
        "          os.popen(\"ffmpeg -i '{input}' -ac 2 -b:v 2000k -c:a aac -c:v libx264 -b:a 160k -vprofile high -bf 0 -strict experimental -f mp4 '{output}.mp4'\".format(input = avi_file_path, output = output_name))"
      ],
      "execution_count": 0,
      "outputs": []
    },
    {
      "cell_type": "code",
      "metadata": {
        "id": "ZeSI2SjAG0ID",
        "colab_type": "code",
        "colab": {}
      },
      "source": [
        "entries=os.listdir('/CAER/test(mp4)')\n",
        "for entry in entries:\n",
        "        entries2=os.listdir('CAER/test(mp4)/'+entry+'/')\n",
        "        for file_name in entries2:\n",
        "          file_name=(file_name.split('.mp4'))[0]\n",
        "          try:\n",
        "              if not os.path.exists(f'CAER/VoiceData_Val/{entry}/'):\n",
        "                  os.makedirs(f'CAER/VoiceData_Val/{entry}}/')\n",
        "          except OSError:\n",
        "              print ('Error: Creating directory of data')\n",
        "          command = \"ffmpeg -i CAER/test(mp4)/{}/{}.mp4 -ab 320k -ac 2 -ar 44100 -vn CAER/VoiceData_Val/{}/{}.wav\".format(entry,file_name,entry,file_name)    "
      ],
      "execution_count": 0,
      "outputs": []
    },
    {
      "cell_type": "code",
      "metadata": {
        "id": "QI5mTdnSG0l1",
        "colab_type": "code",
        "colab": {}
      },
      "source": [
        "file = open('/csv/assignment_audio_validation.csv', 'w', newline='')\n",
        "with file:\n",
        "    writer = csv.writer(file)\n",
        "    writer.writerow(header)\n",
        "entries=os.listdir('/CAER/VoiceData_Val/')\n",
        "for entry in entries:\n",
        "    for filename in os.listdir(f'/CAER/VoiceData_Val/{entry}'):\n",
        "            songname = f'/CAER/VoiceData_Val/{entry}/{filename}'\n",
        "            y, sr = librosa.load(songname, mono=True, duration=7)\n",
        "            chroma_stft = librosa.feature.chroma_stft(y=y, sr=sr)\n",
        "            rmse = librosa.feature.rmse(y=y)\n",
        "            spec_cent = librosa.feature.spectral_centroid(y=y, sr=sr)\n",
        "            spec_bw = librosa.feature.spectral_bandwidth(y=y, sr=sr)\n",
        "            rolloff = librosa.feature.spectral_rolloff(y=y, sr=sr)\n",
        "            zcr = librosa.feature.zero_crossing_rate(y)\n",
        "            mfcc = librosa.feature.mfcc(y=y, sr=sr)\n",
        "            to_append = f'{filename} {entry} {np.mean(chroma_stft)} {np.mean(rmse)} {np.mean(spec_cent)} {np.mean(spec_bw)} {np.mean(rolloff)} {np.mean(zcr)}'    \n",
        "            for e in mfcc:\n",
        "                to_append += f' {np.mean(e)}'\n",
        "            file = open('/csv/assignment_audio_validation.csv', 'a', newline='')\n",
        "            with file:\n",
        "                writer = csv.writer(file)\n",
        "                writer.writerow(to_append.split())"
      ],
      "execution_count": 0,
      "outputs": []
    }
  ]
}